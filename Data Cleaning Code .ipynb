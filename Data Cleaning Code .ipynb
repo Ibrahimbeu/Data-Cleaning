{
 "cells": [
  {
   "cell_type": "markdown",
   "metadata": {},
   "source": [
    "# Data Cleaning"
   ]
  },
  {
   "cell_type": "code",
   "execution_count": 192,
   "metadata": {},
   "outputs": [],
   "source": [
    "import pandas as pd\n",
    "import numpy as np\n",
    "import seaborn as sns\n",
    "import matplotlib.pyplot as plt"
   ]
  },
  {
   "cell_type": "code",
   "execution_count": 232,
   "metadata": {},
   "outputs": [],
   "source": [
    "df= pd.read_csv(\"Flourish OA.txt\")"
   ]
  },
  {
   "cell_type": "code",
   "execution_count": 194,
   "metadata": {},
   "outputs": [
    {
     "data": {
      "text/html": [
       "<div>\n",
       "<style scoped>\n",
       "    .dataframe tbody tr th:only-of-type {\n",
       "        vertical-align: middle;\n",
       "    }\n",
       "\n",
       "    .dataframe tbody tr th {\n",
       "        vertical-align: top;\n",
       "    }\n",
       "\n",
       "    .dataframe thead th {\n",
       "        text-align: right;\n",
       "    }\n",
       "</style>\n",
       "<table border=\"1\" class=\"dataframe\">\n",
       "  <thead>\n",
       "    <tr style=\"text-align: right;\">\n",
       "      <th></th>\n",
       "      <th>issn</th>\n",
       "      <th>journal_name</th>\n",
       "      <th>pub_name</th>\n",
       "      <th>is_hybrid</th>\n",
       "      <th>category</th>\n",
       "      <th>url</th>\n",
       "    </tr>\n",
       "  </thead>\n",
       "  <tbody>\n",
       "    <tr>\n",
       "      <th>0</th>\n",
       "      <td>0001-527X</td>\n",
       "      <td>Acta Biochimica Polonica</td>\n",
       "      <td>ACTA BIOCHIMICA POLONICA</td>\n",
       "      <td>0</td>\n",
       "      <td>MOLECULAR AND CELL BIOLOGY</td>\n",
       "      <td>NaN</td>\n",
       "    </tr>\n",
       "    <tr>\n",
       "      <th>1</th>\n",
       "      <td>0002-0397</td>\n",
       "      <td>Africa Spectrum</td>\n",
       "      <td>NaN</td>\n",
       "      <td>0</td>\n",
       "      <td>NaN</td>\n",
       "      <td>NaN</td>\n",
       "    </tr>\n",
       "    <tr>\n",
       "      <th>2</th>\n",
       "      <td>0003-0090</td>\n",
       "      <td>Bulletin of the American Museum of Natural His...</td>\n",
       "      <td>AMER MUSEUM NATURAL HISTORY</td>\n",
       "      <td>0</td>\n",
       "      <td>ECOLOGY AND EVOLUTION</td>\n",
       "      <td>NaN</td>\n",
       "    </tr>\n",
       "    <tr>\n",
       "      <th>3</th>\n",
       "      <td>0003-5521</td>\n",
       "      <td>L'anthropologie</td>\n",
       "      <td>Elsevier</td>\n",
       "      <td>1</td>\n",
       "      <td>Anthropology</td>\n",
       "      <td>NaN</td>\n",
       "    </tr>\n",
       "    <tr>\n",
       "      <th>4</th>\n",
       "      <td>0004-1254</td>\n",
       "      <td>Arhiv Za Higijenu Rada I Toksikologiju-Archive...</td>\n",
       "      <td>NaN</td>\n",
       "      <td>0</td>\n",
       "      <td>NaN</td>\n",
       "      <td>NaN</td>\n",
       "    </tr>\n",
       "  </tbody>\n",
       "</table>\n",
       "</div>"
      ],
      "text/plain": [
       "        issn                                       journal_name  \\\n",
       "0  0001-527X                           Acta Biochimica Polonica   \n",
       "1  0002-0397                                    Africa Spectrum   \n",
       "2  0003-0090  Bulletin of the American Museum of Natural His...   \n",
       "3  0003-5521                                    L'anthropologie   \n",
       "4  0004-1254  Arhiv Za Higijenu Rada I Toksikologiju-Archive...   \n",
       "\n",
       "                      pub_name  is_hybrid                    category  url  \n",
       "0     ACTA BIOCHIMICA POLONICA          0  MOLECULAR AND CELL BIOLOGY  NaN  \n",
       "1                          NaN          0                         NaN  NaN  \n",
       "2  AMER MUSEUM NATURAL HISTORY          0       ECOLOGY AND EVOLUTION  NaN  \n",
       "3                     Elsevier          1                Anthropology  NaN  \n",
       "4                          NaN          0                         NaN  NaN  "
      ]
     },
     "execution_count": 194,
     "metadata": {},
     "output_type": "execute_result"
    }
   ],
   "source": [
    "df.head()"
   ]
  },
  {
   "cell_type": "code",
   "execution_count": 195,
   "metadata": {},
   "outputs": [
    {
     "name": "stdout",
     "output_type": "stream",
     "text": [
      "<class 'pandas.core.frame.DataFrame'>\n",
      "RangeIndex: 13149 entries, 0 to 13148\n",
      "Data columns (total 6 columns):\n",
      " #   Column        Non-Null Count  Dtype \n",
      "---  ------        --------------  ----- \n",
      " 0   issn          13149 non-null  object\n",
      " 1   journal_name  13149 non-null  object\n",
      " 2   pub_name      11679 non-null  object\n",
      " 3   is_hybrid     13149 non-null  int64 \n",
      " 4   category      6818 non-null   object\n",
      " 5   url           6361 non-null   object\n",
      "dtypes: int64(1), object(5)\n",
      "memory usage: 616.5+ KB\n"
     ]
    }
   ],
   "source": [
    "df.info()"
   ]
  },
  {
   "cell_type": "code",
   "execution_count": 196,
   "metadata": {},
   "outputs": [
    {
     "data": {
      "text/plain": [
       "issn            False\n",
       "journal_name    False\n",
       "pub_name         True\n",
       "is_hybrid       False\n",
       "category         True\n",
       "url              True\n",
       "dtype: bool"
      ]
     },
     "execution_count": 196,
     "metadata": {},
     "output_type": "execute_result"
    }
   ],
   "source": [
    "df.isnull().any()"
   ]
  },
  {
   "cell_type": "code",
   "execution_count": 197,
   "metadata": {},
   "outputs": [
    {
     "data": {
      "text/html": [
       "<div>\n",
       "<style scoped>\n",
       "    .dataframe tbody tr th:only-of-type {\n",
       "        vertical-align: middle;\n",
       "    }\n",
       "\n",
       "    .dataframe tbody tr th {\n",
       "        vertical-align: top;\n",
       "    }\n",
       "\n",
       "    .dataframe thead th {\n",
       "        text-align: right;\n",
       "    }\n",
       "</style>\n",
       "<table border=\"1\" class=\"dataframe\">\n",
       "  <thead>\n",
       "    <tr style=\"text-align: right;\">\n",
       "      <th></th>\n",
       "      <th>pub_name</th>\n",
       "      <th>category</th>\n",
       "      <th>url</th>\n",
       "    </tr>\n",
       "  </thead>\n",
       "  <tbody>\n",
       "    <tr>\n",
       "      <th>0</th>\n",
       "      <td>ACTA BIOCHIMICA POLONICA</td>\n",
       "      <td>MOLECULAR AND CELL BIOLOGY</td>\n",
       "      <td>NaN</td>\n",
       "    </tr>\n",
       "    <tr>\n",
       "      <th>1</th>\n",
       "      <td>NaN</td>\n",
       "      <td>NaN</td>\n",
       "      <td>NaN</td>\n",
       "    </tr>\n",
       "    <tr>\n",
       "      <th>2</th>\n",
       "      <td>AMER MUSEUM NATURAL HISTORY</td>\n",
       "      <td>ECOLOGY AND EVOLUTION</td>\n",
       "      <td>NaN</td>\n",
       "    </tr>\n",
       "    <tr>\n",
       "      <th>3</th>\n",
       "      <td>Elsevier</td>\n",
       "      <td>Anthropology</td>\n",
       "      <td>NaN</td>\n",
       "    </tr>\n",
       "    <tr>\n",
       "      <th>4</th>\n",
       "      <td>NaN</td>\n",
       "      <td>NaN</td>\n",
       "      <td>NaN</td>\n",
       "    </tr>\n",
       "    <tr>\n",
       "      <th>...</th>\n",
       "      <td>...</td>\n",
       "      <td>...</td>\n",
       "      <td>...</td>\n",
       "    </tr>\n",
       "    <tr>\n",
       "      <th>13144</th>\n",
       "      <td>NaN</td>\n",
       "      <td>NaN</td>\n",
       "      <td>NaN</td>\n",
       "    </tr>\n",
       "    <tr>\n",
       "      <th>13145</th>\n",
       "      <td>NaN</td>\n",
       "      <td>NaN</td>\n",
       "      <td>NaN</td>\n",
       "    </tr>\n",
       "    <tr>\n",
       "      <th>13146</th>\n",
       "      <td>NaN</td>\n",
       "      <td>NaN</td>\n",
       "      <td>NaN</td>\n",
       "    </tr>\n",
       "    <tr>\n",
       "      <th>13147</th>\n",
       "      <td>NaN</td>\n",
       "      <td>NaN</td>\n",
       "      <td>NaN</td>\n",
       "    </tr>\n",
       "    <tr>\n",
       "      <th>13148</th>\n",
       "      <td>NaN</td>\n",
       "      <td>NaN</td>\n",
       "      <td>NaN</td>\n",
       "    </tr>\n",
       "  </tbody>\n",
       "</table>\n",
       "<p>13149 rows × 3 columns</p>\n",
       "</div>"
      ],
      "text/plain": [
       "                          pub_name                    category  url\n",
       "0         ACTA BIOCHIMICA POLONICA  MOLECULAR AND CELL BIOLOGY  NaN\n",
       "1                              NaN                         NaN  NaN\n",
       "2      AMER MUSEUM NATURAL HISTORY       ECOLOGY AND EVOLUTION  NaN\n",
       "3                         Elsevier                Anthropology  NaN\n",
       "4                              NaN                         NaN  NaN\n",
       "...                            ...                         ...  ...\n",
       "13144                          NaN                         NaN  NaN\n",
       "13145                          NaN                         NaN  NaN\n",
       "13146                          NaN                         NaN  NaN\n",
       "13147                          NaN                         NaN  NaN\n",
       "13148                          NaN                         NaN  NaN\n",
       "\n",
       "[13149 rows x 3 columns]"
      ]
     },
     "execution_count": 197,
     "metadata": {},
     "output_type": "execute_result"
    }
   ],
   "source": [
    "df[['pub_name','category','url']]"
   ]
  },
  {
   "cell_type": "code",
   "execution_count": 198,
   "metadata": {},
   "outputs": [
    {
     "data": {
      "text/plain": [
       "0              MOLECULAR AND CELL BIOLOGY\n",
       "2                   ECOLOGY AND EVOLUTION\n",
       "3                            Anthropology\n",
       "6                                ROBOTICS\n",
       "9                   Physics and Chemistry\n",
       "                       ...               \n",
       "12920    Philosophy. Psychology. Religion\n",
       "12921    Philosophy. Psychology. Religion\n",
       "12922                           Fine Arts\n",
       "12923                             Science\n",
       "13135                            MEDICINE\n",
       "Name: category, Length: 6818, dtype: object"
      ]
     },
     "execution_count": 198,
     "metadata": {},
     "output_type": "execute_result"
    }
   ],
   "source": [
    " df['category'].dropna()"
   ]
  },
  {
   "cell_type": "code",
   "execution_count": 199,
   "metadata": {},
   "outputs": [
    {
     "data": {
      "text/plain": [
       "0           ACTA BIOCHIMICA POLONICA\n",
       "1                                NaN\n",
       "2        AMER MUSEUM NATURAL HISTORY\n",
       "3                           Elsevier\n",
       "4                                NaN\n",
       "                    ...             \n",
       "13144                            NaN\n",
       "13145                            NaN\n",
       "13146                            NaN\n",
       "13147                            NaN\n",
       "13148                            NaN\n",
       "Name: pub_name, Length: 13149, dtype: object"
      ]
     },
     "execution_count": 199,
     "metadata": {},
     "output_type": "execute_result"
    }
   ],
   "source": [
    "df['pub_name'].replace(\"Null\",np.NaN)"
   ]
  },
  {
   "cell_type": "code",
   "execution_count": 200,
   "metadata": {},
   "outputs": [],
   "source": [
    "df.dropna(inplace=True,subset=['pub_name','category','url'])"
   ]
  },
  {
   "cell_type": "code",
   "execution_count": 201,
   "metadata": {},
   "outputs": [
    {
     "data": {
      "text/plain": [
       "(6297, 6)"
      ]
     },
     "execution_count": 201,
     "metadata": {},
     "output_type": "execute_result"
    }
   ],
   "source": [
    "dt.shape"
   ]
  },
  {
   "cell_type": "code",
   "execution_count": 202,
   "metadata": {},
   "outputs": [
    {
     "data": {
      "text/plain": [
       "(6297, 6)"
      ]
     },
     "execution_count": 202,
     "metadata": {},
     "output_type": "execute_result"
    }
   ],
   "source": [
    "df.shape"
   ]
  },
  {
   "cell_type": "code",
   "execution_count": 203,
   "metadata": {},
   "outputs": [],
   "source": [
    "df['category'].fillna(method=\"ffill\",inplace=True)"
   ]
  },
  {
   "cell_type": "code",
   "execution_count": 204,
   "metadata": {},
   "outputs": [
    {
     "data": {
      "text/plain": [
       "56                            Agriculture\n",
       "199                       Social Sciences\n",
       "286                      Literary Studies\n",
       "366                               Science\n",
       "367      Philosophy. Psychology. Religion\n",
       "                       ...               \n",
       "12919    Philosophy. Psychology. Religion\n",
       "12920    Philosophy. Psychology. Religion\n",
       "12921    Philosophy. Psychology. Religion\n",
       "12922                           Fine Arts\n",
       "12923                             Science\n",
       "Name: category, Length: 6297, dtype: object"
      ]
     },
     "execution_count": 204,
     "metadata": {},
     "output_type": "execute_result"
    }
   ],
   "source": [
    "df['category'].fillna(value=df['category'].mode(dropna=True),method=None)"
   ]
  },
  {
   "cell_type": "code",
   "execution_count": 205,
   "metadata": {},
   "outputs": [
    {
     "data": {
      "text/plain": [
       "0    Medicine\n",
       "dtype: object"
      ]
     },
     "execution_count": 205,
     "metadata": {},
     "output_type": "execute_result"
    }
   ],
   "source": [
    "df['category'].mode(dropna=True)"
   ]
  },
  {
   "cell_type": "code",
   "execution_count": 206,
   "metadata": {},
   "outputs": [],
   "source": [
    "from sklearn.impute import SimpleImputer"
   ]
  },
  {
   "cell_type": "code",
   "execution_count": 207,
   "metadata": {},
   "outputs": [],
   "source": [
    "imput= SimpleImputer(strategy='median')"
   ]
  },
  {
   "cell_type": "code",
   "execution_count": 208,
   "metadata": {},
   "outputs": [
    {
     "data": {
      "text/plain": [
       "array([['Agriculture'],\n",
       "       ['Social Sciences'],\n",
       "       ['Literary Studies'],\n",
       "       ...,\n",
       "       ['Philosophy. Psychology. Religion'],\n",
       "       ['Fine Arts'],\n",
       "       ['Science']], dtype=object)"
      ]
     },
     "metadata": {},
     "output_type": "display_data"
    },
    {
     "name": "stdout",
     "output_type": "stream",
     "text": [
      "\n"
     ]
    },
    {
     "data": {
      "text/plain": [
       "array(['Medicine'], dtype=object)"
      ]
     },
     "metadata": {},
     "output_type": "display_data"
    }
   ],
   "source": [
    "from sklearn.impute import SimpleImputer\n",
    "imput= SimpleImputer(strategy=\"most_frequent\")\n",
    "display(imput.fit_transform(df[['category']]))\n",
    "print()\n",
    "display(imput.statistics_)"
   ]
  },
  {
   "cell_type": "code",
   "execution_count": 209,
   "metadata": {},
   "outputs": [
    {
     "data": {
      "text/plain": [
       "array(['Medicine'], dtype=object)"
      ]
     },
     "execution_count": 209,
     "metadata": {},
     "output_type": "execute_result"
    }
   ],
   "source": [
    "imput.statistics_"
   ]
  },
  {
   "cell_type": "code",
   "execution_count": 210,
   "metadata": {},
   "outputs": [
    {
     "data": {
      "text/plain": [
       "True"
      ]
     },
     "execution_count": 210,
     "metadata": {},
     "output_type": "execute_result"
    }
   ],
   "source": [
    "\"Springer\" in df['pub_name'].unique()"
   ]
  },
  {
   "cell_type": "code",
   "execution_count": 211,
   "metadata": {},
   "outputs": [
    {
     "data": {
      "text/plain": [
       "False"
      ]
     },
     "execution_count": 211,
     "metadata": {},
     "output_type": "execute_result"
    }
   ],
   "source": [
    "'Springer' in df['category']"
   ]
  },
  {
   "cell_type": "code",
   "execution_count": 212,
   "metadata": {},
   "outputs": [],
   "source": [
    "from fuzzywuzzy import process,fuzz"
   ]
  },
  {
   "cell_type": "code",
   "execution_count": 213,
   "metadata": {},
   "outputs": [
    {
     "data": {
      "text/plain": [
       "90"
      ]
     },
     "execution_count": 213,
     "metadata": {},
     "output_type": "execute_result"
    }
   ],
   "source": [
    "from fuzzywuzzy import process,fuzz\n",
    "fuzz.WRatio(\"Europe\",\"eur\")"
   ]
  },
  {
   "cell_type": "code",
   "execution_count": 233,
   "metadata": {},
   "outputs": [
    {
     "data": {
      "text/plain": [
       "56                            Agriculture\n",
       "199                       Social Sciences\n",
       "286                      Literary Studies\n",
       "366                               Science\n",
       "367      Philosophy. Psychology. Religion\n",
       "                       ...               \n",
       "12919    Philosophy. Psychology. Religion\n",
       "12920    Philosophy. Psychology. Religion\n",
       "12921    Philosophy. Psychology. Religion\n",
       "12922                           Fine Arts\n",
       "12923                             Science\n",
       "Name: category, Length: 6297, dtype: object"
      ]
     },
     "execution_count": 233,
     "metadata": {},
     "output_type": "execute_result"
    }
   ],
   "source": [
    "df.dropna(inplace=True)\n",
    "df['category']"
   ]
  },
  {
   "cell_type": "code",
   "execution_count": 242,
   "metadata": {},
   "outputs": [],
   "source": [
    "kat= df['category'].unique()"
   ]
  },
  {
   "cell_type": "code",
   "execution_count": 252,
   "metadata": {},
   "outputs": [],
   "source": [
    "for i in kat:\n",
    "    df.loc[df['category']==i,'category']= \"shj\"+i+\"afr\""
   ]
  },
  {
   "cell_type": "code",
   "execution_count": null,
   "metadata": {},
   "outputs": [],
   "source": [
    "from fuzzywuzzy import process\n",
    "# kat is a list of categories which is correct \n",
    "for val in kat:\n",
    "    match= process.extract(val,df['category'],limit=df.shape[0])\n",
    "    for poten_match in match:\n",
    "        if poten_match[1]>80:\n",
    "            df.loc[df['category']==poten_match[0],\"category\"]=val\n",
    "        break"
   ]
  },
  {
   "cell_type": "code",
   "execution_count": null,
   "metadata": {},
   "outputs": [],
   "source": [
    "frame=pd.DataFrame({\n",
    "    \"Country\":[\"Russia\",\"Rus\",\"United States of America\",\"America\",\"nederland\",\"Ned.\"]\n",
    "})\n",
    "frame"
   ]
  },
  {
   "cell_type": "code",
   "execution_count": null,
   "metadata": {},
   "outputs": [],
   "source": [
    "frame"
   ]
  },
  {
   "cell_type": "markdown",
   "metadata": {},
   "source": [
    "## Finding outlier with boxplot"
   ]
  },
  {
   "cell_type": "code",
   "execution_count": null,
   "metadata": {},
   "outputs": [],
   "source": [
    "df=sns.load_dataset(\"iris\")"
   ]
  },
  {
   "cell_type": "code",
   "execution_count": null,
   "metadata": {},
   "outputs": [],
   "source": [
    "sns.boxplot(y='petal_length',x='species',data=df)"
   ]
  },
  {
   "cell_type": "code",
   "execution_count": null,
   "metadata": {},
   "outputs": [],
   "source": [
    "df.drop(columns=[\"species\"]).columns"
   ]
  },
  {
   "cell_type": "markdown",
   "metadata": {},
   "source": [
    "## Finding Outliers with IsolationForest"
   ]
  },
  {
   "cell_type": "code",
   "execution_count": 257,
   "metadata": {},
   "outputs": [
    {
     "data": {
      "text/plain": [
       "<matplotlib.collections.PathCollection at 0x2374f01d2c8>"
      ]
     },
     "execution_count": 257,
     "metadata": {},
     "output_type": "execute_result"
    },
    {
     "data": {
      "image/png": "[encoded data removed]",
      "text/plain": [
       "<Figure size 720x432 with 1 Axes>"
      ]
     },
     "metadata": {
      "needs_background": "light"
     },
     "output_type": "display_data"
    }
   ],
   "source": [
    "from sklearn.ensemble import IsolationForest\n",
    "from sklearn.decomposition import PCA\n",
    "df= pd.read_csv(\"raw_data.txt\")\n",
    "iso= IsolationForest(n_estimators=100)\n",
    "prediction= iso.fit_predict(df)\n",
    "\n",
    "pca= PCA(n_components=2)\n",
    "transformed= pca.fit_transform(df)\n",
    "plt.figure(figsize=(10,6))\n",
    "plt.scatter(transformed[:,0],transformed[:,1],c=prediction,s=16)"
   ]
  },
  {
   "cell_type": "markdown",
   "metadata": {},
   "source": [
    "## Finding Outlier with LOF"
   ]
  },
  {
   "cell_type": "code",
   "execution_count": 258,
   "metadata": {},
   "outputs": [
    {
     "data": {
      "text/plain": [
       "<matplotlib.legend.Legend at 0x2374e579dc8>"
      ]
     },
     "execution_count": 258,
     "metadata": {},
     "output_type": "execute_result"
    },
    {
     "data": {
      "image/png": "[encoded data removed]",
      "text/plain": [
       "<Figure size 720x432 with 1 Axes>"
      ]
     },
     "metadata": {
      "needs_background": "light"
     },
     "output_type": "display_data"
    }
   ],
   "source": [
    "from sklearn.neighbors import LocalOutlierFactor\n",
    "from sklearn.decomposition import PCA\n",
    "outlier= LocalOutlierFactor()\n",
    "predict_LOF= outlier.fit_predict(df)\n",
    "\n",
    "pca= PCA(n_components=2)\n",
    "transformed= pca.fit_transform(df)\n",
    "plt.figure(figsize=(10,6))\n",
    "plt.scatter(transformed[:,0],transformed[:,1],c=predict_LOF,s=16)\n",
    "plt.legend(loc='upper left',labels=[\"q\",\"f\"])"
   ]
  },
  {
   "cell_type": "code",
   "execution_count": null,
   "metadata": {},
   "outputs": [],
   "source": []
  }
 ],
 "metadata": {
  "kernelspec": {
   "display_name": "Python 3",
   "language": "python",
   "name": "python3"
  },
  "language_info": {
   "codemirror_mode": {
    "name": "ipython",
    "version": 3
   },
   "file_extension": ".py",
   "mimetype": "text/x-python",
   "name": "python",
   "nbconvert_exporter": "python",
   "pygments_lexer": "ipython3",
   "version": "3.7.7"
  }
 },
 "nbformat": 4,
 "nbformat_minor": 4
}
